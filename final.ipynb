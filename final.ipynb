{
 "cells": [
  {
   "cell_type": "code",
   "execution_count": null,
   "id": "73420e2f",
   "metadata": {},
   "outputs": [],
   "source": [
    "import pandas as pd\n",
    "from sklearn.model_selection import KFold\n",
    "import gurobipy as gp\n",
    "from gurobipy import GRB\n",
    "import numpy as np\n",
    "from sklearn.linear_model import LinearRegression\n",
    "from sklearn.model_selection import KFold\n",
    "from sklearn.metrics import mean_absolute_error"
   ]
  },
  {
   "cell_type": "markdown",
   "id": "968ef0fe",
   "metadata": {},
   "source": [
    "Read the CSV file"
   ]
  },
  {
   "cell_type": "code",
   "execution_count": null,
   "id": "85d138b8",
   "metadata": {},
   "outputs": [],
   "source": [
    "df = pd.read_csv(\"/Users/calvinli/Desktop/MS FIANL/StudentPerformanceFactors-1.csv\")"
   ]
  },
  {
   "cell_type": "code",
   "execution_count": null,
   "id": "6886b206",
   "metadata": {},
   "outputs": [],
   "source": [
    "df"
   ]
  },
  {
   "cell_type": "code",
   "execution_count": null,
   "id": "9877e5a1",
   "metadata": {},
   "outputs": [],
   "source": [
    "df"
   ]
  },
  {
   "cell_type": "markdown",
   "id": "f40e0bb5",
   "metadata": {},
   "source": [
    "選擇我們要使用的變數們"
   ]
  },
  {
   "cell_type": "code",
   "execution_count": null,
   "id": "4046ee61",
   "metadata": {},
   "outputs": [],
   "source": [
    "income_dummies = pd.get_dummies(df['Family_Income'], prefix='income', drop_first=True)\n",
    "distance_dummies = pd.get_dummies(df['Distance_from_Home'], prefix='distance', drop_first=True)"
   ]
  },
  {
   "cell_type": "code",
   "execution_count": null,
   "id": "ab562ef6",
   "metadata": {},
   "outputs": [],
   "source": [
    "df = pd.concat([df, income_dummies, distance_dummies], axis=1)\n",
    "df.drop(['Family_Income', 'Distance_from_Home'], axis=1, inplace=True)\n"
   ]
  },
  {
   "cell_type": "code",
   "execution_count": null,
   "id": "e713597e",
   "metadata": {},
   "outputs": [],
   "source": [
    "selected_cols = [\n",
    "    'Hours_Studied',\n",
    "    'Sleep_Hours',\n",
    "    'Previous_Scores',\n",
    "    'Attendance',\n",
    "    'income_Low',  # dummy\n",
    "    'income_Medium',    # dummy\n",
    "    'distance_Moderate',  # dummy\n",
    "    'distance_Near',       # dummy\n",
    "    'Exam_Score'  # 目標變數\n",
    "]\n",
    "\n",
    "df = df[selected_cols].dropna()  # 移除缺漏值"
   ]
  },
  {
   "cell_type": "code",
   "execution_count": null,
   "id": "b8a877fa",
   "metadata": {},
   "outputs": [],
   "source": [
    "df"
   ]
  },
  {
   "cell_type": "markdown",
   "id": "15199a04",
   "metadata": {},
   "source": [
    "切分 5-Fold Cross Validation"
   ]
  },
  {
   "cell_type": "code",
   "execution_count": null,
   "id": "dc772ec8",
   "metadata": {},
   "outputs": [],
   "source": [
    "kf = KFold(n_splits=5, shuffle=False)\n",
    "folds = []\n",
    "\n",
    "# 把 index 分成 5 折\n",
    "for train_index, test_index in kf.split(df):\n",
    "    train_df = df.iloc[train_index].copy()\n",
    "    test_df = df.iloc[test_index].copy()\n",
    "    folds.append((train_df, test_df))"
   ]
  },
  {
   "cell_type": "code",
   "execution_count": null,
   "id": "d93dbad8",
   "metadata": {},
   "outputs": [],
   "source": [
    "train_df"
   ]
  },
  {
   "cell_type": "code",
   "execution_count": null,
   "id": "50ddf6be",
   "metadata": {},
   "outputs": [],
   "source": [
    "test_df"
   ]
  },
  {
   "cell_type": "markdown",
   "id": "2343bd39",
   "metadata": {},
   "source": [
    "計算訓練資料中的節點位置"
   ]
  },
  {
   "cell_type": "code",
   "execution_count": null,
   "id": "4b8fffd7",
   "metadata": {},
   "outputs": [],
   "source": [
    "def compute_knots(train_df, feature_names, quantiles=[0.10, 0.25, 0.50, 0.75, 0.90]):\n",
    "    knots_dict = {}\n",
    "    for feature in feature_names:\n",
    "        values = train_df[feature].values\n",
    "        knots = np.quantile(values, quantiles)\n",
    "        knots_dict[feature] = dict(zip(quantiles, knots))\n",
    "    return knots_dict\n"
   ]
  },
  {
   "cell_type": "code",
   "execution_count": null,
   "id": "a463c9f8",
   "metadata": {},
   "outputs": [],
   "source": [
    "# 要建立 spline 的數值變數（不要包含目標變數）\n",
    "numeric_features = [\n",
    "    'Hours_Studied',\n",
    "    'Sleep_Hours',\n",
    "    'Previous_Scores',\n",
    "    'Attendance',\n",
    "   \n",
    "]\n",
    "\n",
    "# 建立 spline knots\n",
    "knots = compute_knots(train_df, numeric_features)\n",
    "\n",
    "# 看看結果長怎樣\n",
    "import pprint\n",
    "pprint.pprint(knots)\n"
   ]
  },
  {
   "cell_type": "markdown",
   "id": "fe545e36",
   "metadata": {},
   "source": [
    "建立 Hinge 特徵"
   ]
  },
  {
   "cell_type": "code",
   "execution_count": null,
   "id": "816e111a",
   "metadata": {},
   "outputs": [],
   "source": [
    "def add_hinge_features(df, knots_dict):\n",
    "    df_hinge = df.copy()\n",
    "    \n",
    "    for feature, knot_levels in knots_dict.items():\n",
    "        for q, knot_val in knot_levels.items():\n",
    "            new_col = f\"{feature}_hinge_{q}\"\n",
    "            df_hinge[new_col] = (df_hinge[feature] - knot_val).clip(lower=0)\n",
    "            \n",
    "    return df_hinge"
   ]
  },
  {
   "cell_type": "code",
   "execution_count": null,
   "id": "14574ea2",
   "metadata": {},
   "outputs": [],
   "source": [
    "train_df_hinge = add_hinge_features(train_df, knots)\n",
    "test_df_hinge = add_hinge_features(test_df, knots)"
   ]
  },
  {
   "cell_type": "code",
   "execution_count": null,
   "id": "4c443270",
   "metadata": {},
   "outputs": [],
   "source": [
    "print([col for col in train_df_hinge.columns if 'hinge' in col])\n"
   ]
  },
  {
   "cell_type": "code",
   "execution_count": null,
   "id": "4a111f77",
   "metadata": {},
   "outputs": [],
   "source": [
    "train_df_hinge\n"
   ]
  },
  {
   "cell_type": "code",
   "execution_count": null,
   "id": "2deb0ef8",
   "metadata": {},
   "outputs": [],
   "source": [
    "test_df_hinge"
   ]
  },
  {
   "cell_type": "code",
   "execution_count": null,
   "id": "977caf01",
   "metadata": {},
   "outputs": [],
   "source": [
    "features = [\n",
    "    'income_Medium', 'income_Low',\n",
    "    'distance_Moderate', 'distance_Near',\n",
    "    'Hours_Studied_hinge_0.1', 'Hours_Studied_hinge_0.25', 'Hours_Studied_hinge_0.5', 'Hours_Studied_hinge_0.75', 'Hours_Studied_hinge_0.9',\n",
    "    'Sleep_Hours_hinge_0.1', 'Sleep_Hours_hinge_0.25', 'Sleep_Hours_hinge_0.5', 'Sleep_Hours_hinge_0.75', 'Sleep_Hours_hinge_0.9',\n",
    "    'Previous_Scores_hinge_0.1', 'Previous_Scores_hinge_0.25', 'Previous_Scores_hinge_0.5', 'Previous_Scores_hinge_0.75', 'Previous_Scores_hinge_0.9',\n",
    "    'Attendance_hinge_0.1', 'Attendance_hinge_0.25', 'Attendance_hinge_0.5', 'Attendance_hinge_0.75', 'Attendance_hinge_0.9'\n",
    "]\n",
    "target_col = 'Exam_Score'\n"
   ]
  },
  {
   "cell_type": "code",
   "execution_count": null,
   "id": "35f452b4",
   "metadata": {},
   "outputs": [],
   "source": [
    "features"
   ]
  },
  {
   "cell_type": "code",
   "execution_count": null,
   "id": "4ea53027",
   "metadata": {},
   "outputs": [],
   "source": [
    "def train_lp_spline(train_df, features, target_col='Exam_Score'):\n",
    "    m = gp.Model(\"spline_regression\")\n",
    "    m.setParam(\"OutputFlag\", 0)  # 不輸出中間 log\n",
    "\n",
    "    n = train_df.shape[0]\n",
    "\n",
    "    # 建立 β 變數（每個特徵一個），再加上截距 β0\n",
    "    beta = {f: m.addVar(lb=-GRB.INFINITY, name=f'beta_{f}') for f in features}\n",
    "    beta0 = m.addVar(lb=-GRB.INFINITY, name='beta0')\n",
    "\n",
    "    # 每一筆資料的誤差 |ei|（要使用 e_pos 和 e_neg 表示絕對值）\n",
    "    e_pos = []\n",
    "    e_neg = []\n",
    "\n",
    "    for i in range(n):\n",
    "        e_pos.append(m.addVar(lb=0, name=f\"e_pos_{i}\"))\n",
    "        e_neg.append(m.addVar(lb=0, name=f\"e_neg_{i}\"))\n",
    "\n",
    "    # 建立 constraint: y = β0 + Σ(βj * xij) + e_neg - e_pos\n",
    "    for i in range(n):\n",
    "        row = train_df.iloc[i]\n",
    "        xi_expr = gp.LinExpr()\n",
    "        for f in features:\n",
    "            xi_expr += beta[f] * row[f]\n",
    "        m.addConstr(beta0 + xi_expr + e_neg[i] - e_pos[i] == row[target_col])\n",
    "\n",
    "    # 目標函數：最小化 Σ (e_pos + e_neg)，即 MAE\n",
    "    m.setObjective(gp.quicksum(e_pos[i] + e_neg[i] for i in range(n)), GRB.MINIMIZE)\n",
    "    m.optimize()\n",
    "\n",
    "    # 儲存解\n",
    "    coefficients = {'beta0': beta0.X}\n",
    "    for f in features:\n",
    "        coefficients[f] = beta[f].X\n",
    "\n",
    "    return coefficients\n"
   ]
  },
  {
   "cell_type": "code",
   "execution_count": null,
   "id": "67c4bffe",
   "metadata": {},
   "outputs": [],
   "source": [
    "# 訓練\n",
    "coef = train_lp_spline(train_df_hinge, features, target_col='Exam_Score')\n",
    "\n",
    "# 預測\n",
    "def predict_lp(df, coef, features):\n",
    "    y_pred = []\n",
    "    for _, row in df.iterrows():\n",
    "        y_hat = coef['beta0']\n",
    "        for f in features:\n",
    "            y_hat += coef[f] * row[f]\n",
    "        y_pred.append(y_hat)\n",
    "    return y_pred\n",
    "\n",
    "train_preds = predict_lp(train_df_hinge, coef, features)\n",
    "\n",
    "# 評估 MAE\n",
    "from sklearn.metrics import mean_absolute_error\n",
    "mae = mean_absolute_error(train_df_hinge['Exam_Score'], train_preds)\n",
    "print(f\"Gurobi LP Train MAE: {mae:.4f}\")\n"
   ]
  },
  {
   "cell_type": "code",
   "execution_count": null,
   "id": "d9877fe5",
   "metadata": {},
   "outputs": [],
   "source": [
    "def cross_validate_lp(df, features, target_col='Exam_Score', n_splits=5, random_state=42):\n",
    "    kf = KFold(n_splits=n_splits, shuffle=True, random_state=random_state)\n",
    "    fold_maes = []\n",
    "\n",
    "    for fold_idx, (train_idx, test_idx) in enumerate(kf.split(df)):\n",
    "        train_df_fold = df.iloc[train_idx].copy()\n",
    "        test_df_fold = df.iloc[test_idx].copy()\n",
    "\n",
    "        # 1. 使用 Gurobi 訓練模型\n",
    "        coef_lp = train_lp_spline(train_df_fold, features, target_col)\n",
    "\n",
    "        # 2. 預測測試集\n",
    "        preds = predict_lp(test_df_fold, coef_lp, features)\n",
    "\n",
    "        # 3. 計算 MAE\n",
    "        mae = mean_absolute_error(test_df_fold[target_col], preds)\n",
    "        fold_maes.append(mae)\n",
    "        print(f\"Fold {fold_idx + 1} MAE: {mae:.4f}\")\n",
    "\n",
    "    # 4. 整體 CV-MAE\n",
    "    cv_mae = np.mean(fold_maes)\n",
    "    print(f\"\\n✅ Overall CV-MAE: {cv_mae:.4f}\")\n",
    "\n",
    "    return fold_maes, cv_mae"
   ]
  },
  {
   "cell_type": "code",
   "execution_count": null,
   "id": "76b375f0",
   "metadata": {},
   "outputs": [],
   "source": [
    "fold_maes, overall_cv_mae = cross_validate_lp(train_df_hinge, features)\n"
   ]
  }
 ],
 "metadata": {
  "kernelspec": {
   "display_name": "3.11.12",
   "language": "python",
   "name": "python3"
  },
  "language_info": {
   "codemirror_mode": {
    "name": "ipython",
    "version": 3
   },
   "file_extension": ".py",
   "mimetype": "text/x-python",
   "name": "python",
   "nbconvert_exporter": "python",
   "pygments_lexer": "ipython3",
   "version": "3.11.12"
  }
 },
 "nbformat": 4,
 "nbformat_minor": 5
}
