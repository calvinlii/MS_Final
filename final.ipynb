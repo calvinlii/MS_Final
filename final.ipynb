{
 "cells": [
  {
   "cell_type": "code",
   "execution_count": null,
   "id": "73420e2f",
   "metadata": {},
   "outputs": [],
   "source": [
    "import pandas as pd\n",
    "from sklearn.model_selection import KFold\n",
    "import gurobipy as gp\n",
    "from gurobipy import GRB\n",
    "from sklearn.linear_model import LinearRegression\n",
    "from sklearn.model_selection import KFold\n",
    "from sklearn.metrics import mean_absolute_error"
   ]
  },
  {
   "cell_type": "code",
   "execution_count": null,
   "id": "85d138b8",
   "metadata": {},
   "outputs": [],
   "source": [
    "df = pd.read_csv(\"/Users/calvinli/Desktop/MS FIANL/StudentPerformanceFactors-1.csv\")"
   ]
  },
  {
   "cell_type": "code",
   "execution_count": null,
   "id": "6886b206",
   "metadata": {},
   "outputs": [],
   "source": [
    "df"
   ]
  },
  {
   "cell_type": "code",
   "execution_count": null,
   "id": "4046ee61",
   "metadata": {},
   "outputs": [],
   "source": [
    "income_dummies = pd.get_dummies(df['Family_Income'], prefix='income', drop_first=True)\n",
    "distance_dummies = pd.get_dummies(df['Distance_from_Home'], prefix='distance', drop_first=True)"
   ]
  },
  {
   "cell_type": "code",
   "execution_count": null,
   "id": "ab562ef6",
   "metadata": {},
   "outputs": [],
   "source": [
    "df = pd.concat([df, income_dummies, distance_dummies], axis=1)\n",
    "df.drop(['Family_Income', 'Distance_from_Home'], axis=1, inplace=True)\n"
   ]
  },
  {
   "cell_type": "code",
   "execution_count": null,
   "id": "9877e5a1",
   "metadata": {},
   "outputs": [],
   "source": [
    "df"
   ]
  },
  {
   "cell_type": "code",
   "execution_count": null,
   "id": "e713597e",
   "metadata": {},
   "outputs": [],
   "source": [
    "selected_cols = [\n",
    "    'Hours_Studied',\n",
    "    'Sleep_Hours',\n",
    "    'Previous_Scores',\n",
    "    'Attendance',\n",
    "    'income_Low',  # dummy\n",
    "    'income_Medium',    # dummy\n",
    "    'distance_Moderate',  # dummy\n",
    "    'distance_Near',       # dummy\n",
    "    'Exam_Score'  # 目標變數\n",
    "]\n",
    "\n",
    "df = df[selected_cols].dropna()  # 移除缺漏值"
   ]
  },
  {
   "cell_type": "code",
   "execution_count": null,
   "id": "b8a877fa",
   "metadata": {},
   "outputs": [],
   "source": [
    "df"
   ]
  },
  {
   "cell_type": "code",
   "execution_count": null,
   "id": "b63a5870",
   "metadata": {},
   "outputs": [],
   "source": [
    "kf = KFold(n_splits=5, shuffle=True, random_state=42)\n",
    "folds = []"
   ]
  },
  {
   "cell_type": "code",
   "execution_count": null,
   "id": "dc772ec8",
   "metadata": {},
   "outputs": [],
   "source": [
    "# 把 index 分成 5 折\n",
    "for train_index, test_index in kf.split(df):\n",
    "    train_df = df.iloc[train_index].copy()\n",
    "    test_df = df.iloc[test_index].copy()\n",
    "    folds.append((train_df, test_df))"
   ]
  },
  {
   "cell_type": "code",
   "execution_count": null,
   "id": "d93dbad8",
   "metadata": {},
   "outputs": [],
   "source": [
    "train_df"
   ]
  },
  {
   "cell_type": "code",
   "execution_count": null,
   "id": "50ddf6be",
   "metadata": {},
   "outputs": [],
   "source": [
    "test_df"
   ]
  },
  {
   "cell_type": "code",
   "execution_count": null,
   "id": "4b8fffd7",
   "metadata": {},
   "outputs": [],
   "source": [
    "import numpy as np\n",
    "\n",
    "def compute_knots(train_df, feature_names, quantiles=[0.10, 0.25, 0.50, 0.75, 0.90]):\n",
    "    knots_dict = {}\n",
    "    for feature in feature_names:\n",
    "        values = train_df[feature].values\n",
    "        knots = np.quantile(values, quantiles)\n",
    "        knots_dict[feature] = dict(zip(quantiles, knots))\n",
    "    return knots_dict\n"
   ]
  },
  {
   "cell_type": "code",
   "execution_count": null,
   "id": "a463c9f8",
   "metadata": {},
   "outputs": [],
   "source": [
    "# 要建立 spline 的數值變數（不要包含目標變數）\n",
    "numeric_features = [\n",
    "    'Hours_Studied',\n",
    "    'Sleep_Hours',\n",
    "    'Previous_Scores',\n",
    "    'Attendance',\n",
    "   \n",
    "]\n",
    "\n",
    "# 建立 spline knots\n",
    "knots = compute_knots(train_df, numeric_features)\n",
    "\n",
    "# 看看結果長怎樣\n",
    "import pprint\n",
    "pprint.pprint(knots)\n"
   ]
  },
  {
   "cell_type": "code",
   "execution_count": null,
   "id": "816e111a",
   "metadata": {},
   "outputs": [],
   "source": [
    "def add_hinge_features(df, knots_dict):\n",
    "    df_hinge = df.copy()\n",
    "    \n",
    "    for feature, knot_levels in knots_dict.items():\n",
    "        for q, knot_val in knot_levels.items():\n",
    "            new_col = f\"{feature}_hinge_{q}\"\n",
    "            df_hinge[new_col] = (df_hinge[feature] - knot_val).clip(lower=0)\n",
    "            \n",
    "    return df_hinge"
   ]
  },
  {
   "cell_type": "code",
   "execution_count": null,
   "id": "14574ea2",
   "metadata": {},
   "outputs": [],
   "source": [
    "train_df_hinge = add_hinge_features(train_df, knots)\n",
    "test_df_hinge = add_hinge_features(test_df, knots)"
   ]
  },
  {
   "cell_type": "code",
   "execution_count": null,
   "id": "4a111f77",
   "metadata": {},
   "outputs": [],
   "source": [
    "train_df_hinge"
   ]
  },
  {
   "cell_type": "code",
   "execution_count": null,
   "id": "977caf01",
   "metadata": {},
   "outputs": [],
   "source": [
    "dummy_vars = ['income_Low', 'income_Medium', 'distance_Moderate', 'distance_Near']\n",
    "\n",
    "hinge_vars = []\n",
    "for f in ['Hours_Studied', 'Sleep_Hours', 'Previous_Scores', 'Attendance']:\n",
    "    for q in ['0.1', '0.25', '0.5', '0.75', '0.9']:\n",
    "        hinge_vars.append(f\"{f}_hinge_{q}\")\n",
    "\n",
    "features = dummy_vars + hinge_vars"
   ]
  },
  {
   "cell_type": "code",
   "execution_count": null,
   "id": "4ea53027",
   "metadata": {},
   "outputs": [],
   "source": [
    "kf = KFold(n_splits=5, shuffle=True, random_state=42)\n",
    "target_col = 'Exam_Score'\n",
    "\n",
    "mae_list = []\n",
    "\n",
    "for train_index, val_index in kf.split(df):\n",
    "    train_df, val_df = df.iloc[train_index], df.iloc[val_index]\n",
    "    \n",
    "    # 先算節點（knots）只用 train 資料\n",
    "    knots = compute_knots(train_df, ['Hours_Studied', 'Sleep_Hours', 'Previous_Scores', 'Attendance'])\n",
    "    \n",
    "    # 加 hinge features\n",
    "    train_df_hinge = add_hinge_features(train_df, knots)\n",
    "    val_df_hinge = add_hinge_features(val_df, knots)\n",
    "    \n",
    "    # 選取特徵欄位\n",
    "    X_train = train_df_hinge[features]\n",
    "    y_train = train_df_hinge[target_col]\n",
    "    X_val = val_df_hinge[features]\n",
    "    y_val = val_df_hinge[target_col]\n",
    "    \n",
    "    # 訓練線性回歸模型\n",
    "    model = LinearRegression()\n",
    "    model.fit(X_train, y_train)\n",
    "    \n",
    "    # 預測\n",
    "    y_pred = model.predict(X_val)\n",
    "    \n",
    "    # 評估 MAE\n",
    "    mae = mean_absolute_error(y_val, y_pred)\n",
    "    mae_list.append(mae)\n",
    "    print(f\"Fold MAE: {mae:.4f}\")\n",
    "\n",
    "print(f\"Overall CV-MAE: {np.mean(mae_list):.4f}\")\n"
   ]
  }
 ],
 "metadata": {
  "kernelspec": {
   "display_name": "3.11.12",
   "language": "python",
   "name": "python3"
  },
  "language_info": {
   "codemirror_mode": {
    "name": "ipython",
    "version": 3
   },
   "file_extension": ".py",
   "mimetype": "text/x-python",
   "name": "python",
   "nbconvert_exporter": "python",
   "pygments_lexer": "ipython3",
   "version": "3.11.12"
  }
 },
 "nbformat": 4,
 "nbformat_minor": 5
}
